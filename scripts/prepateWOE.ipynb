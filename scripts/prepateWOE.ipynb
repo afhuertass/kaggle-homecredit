{
 "cells": [
  {
   "cell_type": "code",
   "execution_count": 123,
   "metadata": {},
   "outputs": [],
   "source": [
    "import os\n",
    "import numpy as np\n",
    "import woe.feature_process as fp\n",
    "import woe.GridSearch as gs\n",
    "\n",
    "import pandas as pd\n",
    "\n",
    "from mlencoders.weight_of_evidence_encoder import WeightOfEvidenceEncoder\n",
    "\n",
    "\n",
    "from sklearn.model_selection import train_test_split\n",
    "import lightgbm as lgb\n",
    "from sklearn.model_selection import StratifiedKFold\n",
    "from sklearn.model_selection import KFold\n",
    "from sklearn.metrics import roc_auc_score\n",
    "\n",
    "from sklearn.ensemble import ExtraTreesClassifier\n",
    "from sklearn.linear_model import LogisticRegression\n",
    "\n",
    "import xgboost as xgb\n",
    "from rgf.sklearn import RGFClassifier"
   ]
  },
  {
   "cell_type": "code",
   "execution_count": 108,
   "metadata": {},
   "outputs": [
    {
     "data": {
      "text/plain": [
       "(307511, 269)"
      ]
     },
     "execution_count": 108,
     "metadata": {},
     "output_type": "execute_result"
    }
   ],
   "source": [
    "df_train = pd.read_csv(\"../data/sparse/train_good.csv\")\n",
    "df_test = pd.read_csv(\"../data/sparse/test_good.csv\")\n",
    "df_labels = pd.read_csv(\"../data/labels_train.csv\" , header = None )[1]\n",
    "test_ids = pd.read_csv(\"../data/ids_test.csv\" , header = None)[1].values\n",
    "test_ids\n",
    "df_train.shape"
   ]
  },
  {
   "cell_type": "code",
   "execution_count": 109,
   "metadata": {},
   "outputs": [],
   "source": [
    "cat_cols = df_train.columns[:43]\n",
    "\n",
    "cats_train = df_train[cat_cols]\n",
    "cats_test = df_test[cat_cols]\n",
    "\n",
    "cats_train.columns = [ \"f_{}\".format(i ) for i in range (  cats_train.shape[1]  )  ]\n",
    "cats_test.columns = [ \"f_{}\".format(i ) for i in range (  cats_train.shape[1]   )  ]"
   ]
  },
  {
   "cell_type": "code",
   "execution_count": 110,
   "metadata": {},
   "outputs": [],
   "source": [
    "cat_cols = list( cats_train.columns )"
   ]
  },
  {
   "cell_type": "code",
   "execution_count": 111,
   "metadata": {},
   "outputs": [
    {
     "data": {
      "text/html": [
       "<div>\n",
       "<style scoped>\n",
       "    .dataframe tbody tr th:only-of-type {\n",
       "        vertical-align: middle;\n",
       "    }\n",
       "\n",
       "    .dataframe tbody tr th {\n",
       "        vertical-align: top;\n",
       "    }\n",
       "\n",
       "    .dataframe thead th {\n",
       "        text-align: right;\n",
       "    }\n",
       "</style>\n",
       "<table border=\"1\" class=\"dataframe\">\n",
       "  <thead>\n",
       "    <tr style=\"text-align: right;\">\n",
       "      <th></th>\n",
       "      <th>f_0</th>\n",
       "      <th>f_1</th>\n",
       "      <th>f_2</th>\n",
       "      <th>f_3</th>\n",
       "      <th>f_4</th>\n",
       "      <th>f_5</th>\n",
       "      <th>f_6</th>\n",
       "      <th>f_7</th>\n",
       "      <th>f_8</th>\n",
       "      <th>f_9</th>\n",
       "      <th>...</th>\n",
       "      <th>f_33</th>\n",
       "      <th>f_34</th>\n",
       "      <th>f_35</th>\n",
       "      <th>f_36</th>\n",
       "      <th>f_37</th>\n",
       "      <th>f_38</th>\n",
       "      <th>f_39</th>\n",
       "      <th>f_40</th>\n",
       "      <th>f_41</th>\n",
       "      <th>f_42</th>\n",
       "    </tr>\n",
       "  </thead>\n",
       "  <tbody>\n",
       "    <tr>\n",
       "      <th>0</th>\n",
       "      <td>7</td>\n",
       "      <td>1</td>\n",
       "      <td>9</td>\n",
       "      <td>7</td>\n",
       "      <td>3</td>\n",
       "      <td>0</td>\n",
       "      <td>6</td>\n",
       "      <td>1</td>\n",
       "      <td>1</td>\n",
       "      <td>3</td>\n",
       "      <td>...</td>\n",
       "      <td>4</td>\n",
       "      <td>8</td>\n",
       "      <td>16</td>\n",
       "      <td>2</td>\n",
       "      <td>1</td>\n",
       "      <td>0</td>\n",
       "      <td>1</td>\n",
       "      <td>0</td>\n",
       "      <td>1</td>\n",
       "      <td>1</td>\n",
       "    </tr>\n",
       "    <tr>\n",
       "      <th>1</th>\n",
       "      <td>4</td>\n",
       "      <td>1</td>\n",
       "      <td>4</td>\n",
       "      <td>2</td>\n",
       "      <td>3</td>\n",
       "      <td>0</td>\n",
       "      <td>1</td>\n",
       "      <td>0</td>\n",
       "      <td>0</td>\n",
       "      <td>1</td>\n",
       "      <td>...</td>\n",
       "      <td>1</td>\n",
       "      <td>8</td>\n",
       "      <td>12</td>\n",
       "      <td>2</td>\n",
       "      <td>1</td>\n",
       "      <td>0</td>\n",
       "      <td>1</td>\n",
       "      <td>0</td>\n",
       "      <td>1</td>\n",
       "      <td>1</td>\n",
       "    </tr>\n",
       "    <tr>\n",
       "      <th>2</th>\n",
       "      <td>7</td>\n",
       "      <td>0</td>\n",
       "      <td>9</td>\n",
       "      <td>7</td>\n",
       "      <td>0</td>\n",
       "      <td>1</td>\n",
       "      <td>1</td>\n",
       "      <td>1</td>\n",
       "      <td>1</td>\n",
       "      <td>3</td>\n",
       "      <td>...</td>\n",
       "      <td>1</td>\n",
       "      <td>7</td>\n",
       "      <td>15</td>\n",
       "      <td>2</td>\n",
       "      <td>1</td>\n",
       "      <td>1</td>\n",
       "      <td>1</td>\n",
       "      <td>0</td>\n",
       "      <td>1</td>\n",
       "      <td>1</td>\n",
       "    </tr>\n",
       "    <tr>\n",
       "      <th>3</th>\n",
       "      <td>7</td>\n",
       "      <td>0</td>\n",
       "      <td>9</td>\n",
       "      <td>7</td>\n",
       "      <td>0</td>\n",
       "      <td>0</td>\n",
       "      <td>6</td>\n",
       "      <td>0</td>\n",
       "      <td>1</td>\n",
       "      <td>0</td>\n",
       "      <td>...</td>\n",
       "      <td>4</td>\n",
       "      <td>6</td>\n",
       "      <td>1</td>\n",
       "      <td>3</td>\n",
       "      <td>0</td>\n",
       "      <td>0</td>\n",
       "      <td>1</td>\n",
       "      <td>0</td>\n",
       "      <td>1</td>\n",
       "      <td>1</td>\n",
       "    </tr>\n",
       "    <tr>\n",
       "      <th>4</th>\n",
       "      <td>7</td>\n",
       "      <td>0</td>\n",
       "      <td>4</td>\n",
       "      <td>7</td>\n",
       "      <td>0</td>\n",
       "      <td>0</td>\n",
       "      <td>4</td>\n",
       "      <td>1</td>\n",
       "      <td>1</td>\n",
       "      <td>3</td>\n",
       "      <td>...</td>\n",
       "      <td>1</td>\n",
       "      <td>1</td>\n",
       "      <td>9</td>\n",
       "      <td>1</td>\n",
       "      <td>0</td>\n",
       "      <td>0</td>\n",
       "      <td>1</td>\n",
       "      <td>0</td>\n",
       "      <td>1</td>\n",
       "      <td>1</td>\n",
       "    </tr>\n",
       "  </tbody>\n",
       "</table>\n",
       "<p>5 rows × 43 columns</p>\n",
       "</div>"
      ],
      "text/plain": [
       "   f_0  f_1  f_2  f_3  f_4  f_5  f_6  f_7  f_8  f_9  ...   f_33  f_34  f_35  \\\n",
       "0    7    1    9    7    3    0    6    1    1    3  ...      4     8    16   \n",
       "1    4    1    4    2    3    0    1    0    0    1  ...      1     8    12   \n",
       "2    7    0    9    7    0    1    1    1    1    3  ...      1     7    15   \n",
       "3    7    0    9    7    0    0    6    0    1    0  ...      4     6     1   \n",
       "4    7    0    4    7    0    0    4    1    1    3  ...      1     1     9   \n",
       "\n",
       "   f_36  f_37  f_38  f_39  f_40  f_41  f_42  \n",
       "0     2     1     0     1     0     1     1  \n",
       "1     2     1     0     1     0     1     1  \n",
       "2     2     1     1     1     0     1     1  \n",
       "3     3     0     0     1     0     1     1  \n",
       "4     1     0     0     1     0     1     1  \n",
       "\n",
       "[5 rows x 43 columns]"
      ]
     },
     "execution_count": 111,
     "metadata": {},
     "output_type": "execute_result"
    }
   ],
   "source": [
    "cats_train.head()"
   ]
  },
  {
   "cell_type": "code",
   "execution_count": 112,
   "metadata": {},
   "outputs": [
    {
     "data": {
      "text/html": [
       "<div>\n",
       "<style scoped>\n",
       "    .dataframe tbody tr th:only-of-type {\n",
       "        vertical-align: middle;\n",
       "    }\n",
       "\n",
       "    .dataframe tbody tr th {\n",
       "        vertical-align: top;\n",
       "    }\n",
       "\n",
       "    .dataframe thead th {\n",
       "        text-align: right;\n",
       "    }\n",
       "</style>\n",
       "<table border=\"1\" class=\"dataframe\">\n",
       "  <thead>\n",
       "    <tr style=\"text-align: right;\">\n",
       "      <th></th>\n",
       "      <th>f_0</th>\n",
       "      <th>f_1</th>\n",
       "      <th>f_2</th>\n",
       "      <th>f_3</th>\n",
       "      <th>f_4</th>\n",
       "      <th>f_5</th>\n",
       "      <th>f_6</th>\n",
       "      <th>f_7</th>\n",
       "      <th>f_8</th>\n",
       "      <th>f_9</th>\n",
       "      <th>...</th>\n",
       "      <th>f_33</th>\n",
       "      <th>f_34</th>\n",
       "      <th>f_35</th>\n",
       "      <th>f_36</th>\n",
       "      <th>f_37</th>\n",
       "      <th>f_38</th>\n",
       "      <th>f_39</th>\n",
       "      <th>f_40</th>\n",
       "      <th>f_41</th>\n",
       "      <th>f_42</th>\n",
       "    </tr>\n",
       "  </thead>\n",
       "  <tbody>\n",
       "    <tr>\n",
       "      <th>0</th>\n",
       "      <td>7</td>\n",
       "      <td>1</td>\n",
       "      <td>0</td>\n",
       "      <td>7</td>\n",
       "      <td>0</td>\n",
       "      <td>0</td>\n",
       "      <td>5</td>\n",
       "      <td>0</td>\n",
       "      <td>1</td>\n",
       "      <td>1</td>\n",
       "      <td>...</td>\n",
       "      <td>1</td>\n",
       "      <td>5</td>\n",
       "      <td>14</td>\n",
       "      <td>2</td>\n",
       "      <td>0</td>\n",
       "      <td>0</td>\n",
       "      <td>1</td>\n",
       "      <td>1</td>\n",
       "      <td>1</td>\n",
       "      <td>1</td>\n",
       "    </tr>\n",
       "    <tr>\n",
       "      <th>1</th>\n",
       "      <td>7</td>\n",
       "      <td>0</td>\n",
       "      <td>10</td>\n",
       "      <td>7</td>\n",
       "      <td>0</td>\n",
       "      <td>0</td>\n",
       "      <td>0</td>\n",
       "      <td>1</td>\n",
       "      <td>1</td>\n",
       "      <td>1</td>\n",
       "      <td>...</td>\n",
       "      <td>1</td>\n",
       "      <td>5</td>\n",
       "      <td>14</td>\n",
       "      <td>2</td>\n",
       "      <td>0</td>\n",
       "      <td>0</td>\n",
       "      <td>1</td>\n",
       "      <td>0</td>\n",
       "      <td>1</td>\n",
       "      <td>1</td>\n",
       "    </tr>\n",
       "    <tr>\n",
       "      <th>2</th>\n",
       "      <td>7</td>\n",
       "      <td>0</td>\n",
       "      <td>5</td>\n",
       "      <td>0</td>\n",
       "      <td>0</td>\n",
       "      <td>1</td>\n",
       "      <td>1</td>\n",
       "      <td>1</td>\n",
       "      <td>1</td>\n",
       "      <td>1</td>\n",
       "      <td>...</td>\n",
       "      <td>1</td>\n",
       "      <td>8</td>\n",
       "      <td>14</td>\n",
       "      <td>2</td>\n",
       "      <td>0</td>\n",
       "      <td>0</td>\n",
       "      <td>1</td>\n",
       "      <td>0</td>\n",
       "      <td>1</td>\n",
       "      <td>1</td>\n",
       "    </tr>\n",
       "    <tr>\n",
       "      <th>3</th>\n",
       "      <td>7</td>\n",
       "      <td>1</td>\n",
       "      <td>15</td>\n",
       "      <td>7</td>\n",
       "      <td>3</td>\n",
       "      <td>0</td>\n",
       "      <td>6</td>\n",
       "      <td>0</td>\n",
       "      <td>1</td>\n",
       "      <td>1</td>\n",
       "      <td>...</td>\n",
       "      <td>1</td>\n",
       "      <td>5</td>\n",
       "      <td>11</td>\n",
       "      <td>2</td>\n",
       "      <td>1</td>\n",
       "      <td>0</td>\n",
       "      <td>1</td>\n",
       "      <td>0</td>\n",
       "      <td>1</td>\n",
       "      <td>1</td>\n",
       "    </tr>\n",
       "    <tr>\n",
       "      <th>4</th>\n",
       "      <td>7</td>\n",
       "      <td>0</td>\n",
       "      <td>0</td>\n",
       "      <td>7</td>\n",
       "      <td>0</td>\n",
       "      <td>1</td>\n",
       "      <td>0</td>\n",
       "      <td>1</td>\n",
       "      <td>0</td>\n",
       "      <td>1</td>\n",
       "      <td>...</td>\n",
       "      <td>4</td>\n",
       "      <td>5</td>\n",
       "      <td>14</td>\n",
       "      <td>2</td>\n",
       "      <td>0</td>\n",
       "      <td>1</td>\n",
       "      <td>1</td>\n",
       "      <td>0</td>\n",
       "      <td>1</td>\n",
       "      <td>1</td>\n",
       "    </tr>\n",
       "  </tbody>\n",
       "</table>\n",
       "<p>5 rows × 43 columns</p>\n",
       "</div>"
      ],
      "text/plain": [
       "   f_0  f_1  f_2  f_3  f_4  f_5  f_6  f_7  f_8  f_9  ...   f_33  f_34  f_35  \\\n",
       "0    7    1    0    7    0    0    5    0    1    1  ...      1     5    14   \n",
       "1    7    0   10    7    0    0    0    1    1    1  ...      1     5    14   \n",
       "2    7    0    5    0    0    1    1    1    1    1  ...      1     8    14   \n",
       "3    7    1   15    7    3    0    6    0    1    1  ...      1     5    11   \n",
       "4    7    0    0    7    0    1    0    1    0    1  ...      4     5    14   \n",
       "\n",
       "   f_36  f_37  f_38  f_39  f_40  f_41  f_42  \n",
       "0     2     0     0     1     1     1     1  \n",
       "1     2     0     0     1     0     1     1  \n",
       "2     2     0     0     1     0     1     1  \n",
       "3     2     1     0     1     0     1     1  \n",
       "4     2     0     1     1     0     1     1  \n",
       "\n",
       "[5 rows x 43 columns]"
      ]
     },
     "execution_count": 112,
     "metadata": {},
     "output_type": "execute_result"
    }
   ],
   "source": [
    "cats_test.head()"
   ]
  },
  {
   "cell_type": "code",
   "execution_count": 98,
   "metadata": {},
   "outputs": [
    {
     "data": {
      "text/plain": [
       "(307511, 43)"
      ]
     },
     "execution_count": 98,
     "metadata": {},
     "output_type": "execute_result"
    }
   ],
   "source": [
    "cats_train.shape"
   ]
  },
  {
   "cell_type": "code",
   "execution_count": 99,
   "metadata": {},
   "outputs": [
    {
     "data": {
      "text/plain": [
       "43"
      ]
     },
     "execution_count": 99,
     "metadata": {},
     "output_type": "execute_result"
    }
   ],
   "source": [
    "len( cat_cols)"
   ]
  },
  {
   "cell_type": "code",
   "execution_count": 113,
   "metadata": {},
   "outputs": [
    {
     "data": {
      "text/html": [
       "<div>\n",
       "<style scoped>\n",
       "    .dataframe tbody tr th:only-of-type {\n",
       "        vertical-align: middle;\n",
       "    }\n",
       "\n",
       "    .dataframe tbody tr th {\n",
       "        vertical-align: top;\n",
       "    }\n",
       "\n",
       "    .dataframe thead th {\n",
       "        text-align: right;\n",
       "    }\n",
       "</style>\n",
       "<table border=\"1\" class=\"dataframe\">\n",
       "  <thead>\n",
       "    <tr style=\"text-align: right;\">\n",
       "      <th></th>\n",
       "      <th>f_0</th>\n",
       "      <th>f_1</th>\n",
       "      <th>f_2</th>\n",
       "      <th>f_3</th>\n",
       "      <th>f_4</th>\n",
       "      <th>f_5</th>\n",
       "      <th>f_6</th>\n",
       "      <th>f_7</th>\n",
       "      <th>f_8</th>\n",
       "      <th>f_9</th>\n",
       "      <th>...</th>\n",
       "      <th>f_33</th>\n",
       "      <th>f_34</th>\n",
       "      <th>f_35</th>\n",
       "      <th>f_36</th>\n",
       "      <th>f_37</th>\n",
       "      <th>f_38</th>\n",
       "      <th>f_39</th>\n",
       "      <th>f_40</th>\n",
       "      <th>f_41</th>\n",
       "      <th>f_42</th>\n",
       "    </tr>\n",
       "  </thead>\n",
       "  <tbody>\n",
       "    <tr>\n",
       "      <th>0</th>\n",
       "      <td>0.188675</td>\n",
       "      <td>-0.159608</td>\n",
       "      <td>0.297977</td>\n",
       "      <td>0.014753</td>\n",
       "      <td>-0.157558</td>\n",
       "      <td>0.056242</td>\n",
       "      <td>0.011729</td>\n",
       "      <td>0.250931</td>\n",
       "      <td>-0.015093</td>\n",
       "      <td>0.213706</td>\n",
       "      <td>...</td>\n",
       "      <td>0.125786</td>\n",
       "      <td>-0.117794</td>\n",
       "      <td>-0.100465</td>\n",
       "      <td>-0.056391</td>\n",
       "      <td>-0.148737</td>\n",
       "      <td>-0.053434</td>\n",
       "      <td>0.07661</td>\n",
       "      <td>0.001582</td>\n",
       "      <td>0.000059</td>\n",
       "      <td>0.000004</td>\n",
       "    </tr>\n",
       "    <tr>\n",
       "      <th>1</th>\n",
       "      <td>-0.363350</td>\n",
       "      <td>-0.159608</td>\n",
       "      <td>-0.266393</td>\n",
       "      <td>-0.080601</td>\n",
       "      <td>-0.157558</td>\n",
       "      <td>0.056242</td>\n",
       "      <td>-0.043314</td>\n",
       "      <td>-0.154307</td>\n",
       "      <td>0.033490</td>\n",
       "      <td>-0.071222</td>\n",
       "      <td>...</td>\n",
       "      <td>-0.039984</td>\n",
       "      <td>-0.117794</td>\n",
       "      <td>-0.322493</td>\n",
       "      <td>-0.056391</td>\n",
       "      <td>-0.148737</td>\n",
       "      <td>-0.053434</td>\n",
       "      <td>0.07661</td>\n",
       "      <td>0.001582</td>\n",
       "      <td>0.000059</td>\n",
       "      <td>0.000004</td>\n",
       "    </tr>\n",
       "    <tr>\n",
       "      <th>2</th>\n",
       "      <td>0.188675</td>\n",
       "      <td>0.150280</td>\n",
       "      <td>0.297977</td>\n",
       "      <td>0.014753</td>\n",
       "      <td>0.071397</td>\n",
       "      <td>-0.117353</td>\n",
       "      <td>-0.043314</td>\n",
       "      <td>0.250931</td>\n",
       "      <td>-0.015093</td>\n",
       "      <td>0.213706</td>\n",
       "      <td>...</td>\n",
       "      <td>-0.039984</td>\n",
       "      <td>-0.052128</td>\n",
       "      <td>-0.073842</td>\n",
       "      <td>-0.056391</td>\n",
       "      <td>-0.148737</td>\n",
       "      <td>0.193464</td>\n",
       "      <td>0.07661</td>\n",
       "      <td>0.001582</td>\n",
       "      <td>0.000059</td>\n",
       "      <td>0.000004</td>\n",
       "    </tr>\n",
       "    <tr>\n",
       "      <th>3</th>\n",
       "      <td>0.188675</td>\n",
       "      <td>0.150280</td>\n",
       "      <td>0.297977</td>\n",
       "      <td>0.014753</td>\n",
       "      <td>0.071397</td>\n",
       "      <td>0.056242</td>\n",
       "      <td>0.011729</td>\n",
       "      <td>-0.154307</td>\n",
       "      <td>-0.015093</td>\n",
       "      <td>0.229088</td>\n",
       "      <td>...</td>\n",
       "      <td>0.125786</td>\n",
       "      <td>0.056693</td>\n",
       "      <td>0.327418</td>\n",
       "      <td>0.225935</td>\n",
       "      <td>0.053430</td>\n",
       "      <td>-0.053434</td>\n",
       "      <td>0.07661</td>\n",
       "      <td>0.001582</td>\n",
       "      <td>0.000059</td>\n",
       "      <td>0.000004</td>\n",
       "    </tr>\n",
       "    <tr>\n",
       "      <th>4</th>\n",
       "      <td>0.188675</td>\n",
       "      <td>0.150280</td>\n",
       "      <td>-0.266393</td>\n",
       "      <td>0.014753</td>\n",
       "      <td>0.071397</td>\n",
       "      <td>0.056242</td>\n",
       "      <td>0.003683</td>\n",
       "      <td>0.250931</td>\n",
       "      <td>-0.015093</td>\n",
       "      <td>0.213706</td>\n",
       "      <td>...</td>\n",
       "      <td>-0.039984</td>\n",
       "      <td>0.435220</td>\n",
       "      <td>-0.095607</td>\n",
       "      <td>0.068888</td>\n",
       "      <td>0.053430</td>\n",
       "      <td>-0.053434</td>\n",
       "      <td>0.07661</td>\n",
       "      <td>0.001582</td>\n",
       "      <td>0.000059</td>\n",
       "      <td>0.000004</td>\n",
       "    </tr>\n",
       "  </tbody>\n",
       "</table>\n",
       "<p>5 rows × 43 columns</p>\n",
       "</div>"
      ],
      "text/plain": [
       "        f_0       f_1       f_2       f_3       f_4       f_5       f_6  \\\n",
       "0  0.188675 -0.159608  0.297977  0.014753 -0.157558  0.056242  0.011729   \n",
       "1 -0.363350 -0.159608 -0.266393 -0.080601 -0.157558  0.056242 -0.043314   \n",
       "2  0.188675  0.150280  0.297977  0.014753  0.071397 -0.117353 -0.043314   \n",
       "3  0.188675  0.150280  0.297977  0.014753  0.071397  0.056242  0.011729   \n",
       "4  0.188675  0.150280 -0.266393  0.014753  0.071397  0.056242  0.003683   \n",
       "\n",
       "        f_7       f_8       f_9    ...         f_33      f_34      f_35  \\\n",
       "0  0.250931 -0.015093  0.213706    ...     0.125786 -0.117794 -0.100465   \n",
       "1 -0.154307  0.033490 -0.071222    ...    -0.039984 -0.117794 -0.322493   \n",
       "2  0.250931 -0.015093  0.213706    ...    -0.039984 -0.052128 -0.073842   \n",
       "3 -0.154307 -0.015093  0.229088    ...     0.125786  0.056693  0.327418   \n",
       "4  0.250931 -0.015093  0.213706    ...    -0.039984  0.435220 -0.095607   \n",
       "\n",
       "       f_36      f_37      f_38     f_39      f_40      f_41      f_42  \n",
       "0 -0.056391 -0.148737 -0.053434  0.07661  0.001582  0.000059  0.000004  \n",
       "1 -0.056391 -0.148737 -0.053434  0.07661  0.001582  0.000059  0.000004  \n",
       "2 -0.056391 -0.148737  0.193464  0.07661  0.001582  0.000059  0.000004  \n",
       "3  0.225935  0.053430 -0.053434  0.07661  0.001582  0.000059  0.000004  \n",
       "4  0.068888  0.053430 -0.053434  0.07661  0.001582  0.000059  0.000004  \n",
       "\n",
       "[5 rows x 43 columns]"
      ]
     },
     "execution_count": 113,
     "metadata": {},
     "output_type": "execute_result"
    }
   ],
   "source": [
    "enc = WeightOfEvidenceEncoder(cols= cat_cols )\n",
    "\n",
    "x_train_enc = enc.fit_transform( cats_train , df_labels )\n",
    "x_train_enc.head()"
   ]
  },
  {
   "cell_type": "code",
   "execution_count": 114,
   "metadata": {},
   "outputs": [
    {
     "name": "stderr",
     "output_type": "stream",
     "text": [
      "/usr/local/lib/python2.7/dist-packages/mlencoders/base_encoder.py:44: FutureWarning: \n",
      "Passing list-likes to .loc or [] with any missing label will raise\n",
      "KeyError in the future, you can use .reindex() as an alternative.\n",
      "\n",
      "See the documentation here:\n",
      "http://pandas.pydata.org/pandas-docs/stable/indexing.html#deprecate-loc-reindex-listlike\n",
      "  X_encoded[col] = mapping['value'].loc[X_encoded[col].fillna(NAN_CATEGORY)].values\n"
     ]
    },
    {
     "data": {
      "text/html": [
       "<div>\n",
       "<style scoped>\n",
       "    .dataframe tbody tr th:only-of-type {\n",
       "        vertical-align: middle;\n",
       "    }\n",
       "\n",
       "    .dataframe tbody tr th {\n",
       "        vertical-align: top;\n",
       "    }\n",
       "\n",
       "    .dataframe thead th {\n",
       "        text-align: right;\n",
       "    }\n",
       "</style>\n",
       "<table border=\"1\" class=\"dataframe\">\n",
       "  <thead>\n",
       "    <tr style=\"text-align: right;\">\n",
       "      <th></th>\n",
       "      <th>f_0</th>\n",
       "      <th>f_1</th>\n",
       "      <th>f_2</th>\n",
       "      <th>f_3</th>\n",
       "      <th>f_4</th>\n",
       "      <th>f_5</th>\n",
       "      <th>f_6</th>\n",
       "      <th>f_7</th>\n",
       "      <th>f_8</th>\n",
       "      <th>f_9</th>\n",
       "      <th>...</th>\n",
       "      <th>f_33</th>\n",
       "      <th>f_34</th>\n",
       "      <th>f_35</th>\n",
       "      <th>f_36</th>\n",
       "      <th>f_37</th>\n",
       "      <th>f_38</th>\n",
       "      <th>f_39</th>\n",
       "      <th>f_40</th>\n",
       "      <th>f_41</th>\n",
       "      <th>f_42</th>\n",
       "    </tr>\n",
       "  </thead>\n",
       "  <tbody>\n",
       "    <tr>\n",
       "      <th>0</th>\n",
       "      <td>0.188675</td>\n",
       "      <td>-0.159608</td>\n",
       "      <td>-0.231527</td>\n",
       "      <td>0.014753</td>\n",
       "      <td>0.071397</td>\n",
       "      <td>0.056242</td>\n",
       "      <td>0.036835</td>\n",
       "      <td>-0.154307</td>\n",
       "      <td>-0.015093</td>\n",
       "      <td>-0.071222</td>\n",
       "      <td>...</td>\n",
       "      <td>-0.039984</td>\n",
       "      <td>0.006042</td>\n",
       "      <td>0.127565</td>\n",
       "      <td>-0.056391</td>\n",
       "      <td>0.053430</td>\n",
       "      <td>-0.053434</td>\n",
       "      <td>0.07661</td>\n",
       "      <td>-0.026618</td>\n",
       "      <td>0.000059</td>\n",
       "      <td>0.000004</td>\n",
       "    </tr>\n",
       "    <tr>\n",
       "      <th>1</th>\n",
       "      <td>0.188675</td>\n",
       "      <td>0.150280</td>\n",
       "      <td>0.857622</td>\n",
       "      <td>0.014753</td>\n",
       "      <td>0.071397</td>\n",
       "      <td>0.056242</td>\n",
       "      <td>0.009936</td>\n",
       "      <td>0.250931</td>\n",
       "      <td>-0.015093</td>\n",
       "      <td>-0.071222</td>\n",
       "      <td>...</td>\n",
       "      <td>-0.039984</td>\n",
       "      <td>0.006042</td>\n",
       "      <td>0.127565</td>\n",
       "      <td>-0.056391</td>\n",
       "      <td>0.053430</td>\n",
       "      <td>-0.053434</td>\n",
       "      <td>0.07661</td>\n",
       "      <td>0.001582</td>\n",
       "      <td>0.000059</td>\n",
       "      <td>0.000004</td>\n",
       "    </tr>\n",
       "    <tr>\n",
       "      <th>2</th>\n",
       "      <td>0.188675</td>\n",
       "      <td>0.150280</td>\n",
       "      <td>0.374633</td>\n",
       "      <td>-0.427263</td>\n",
       "      <td>0.071397</td>\n",
       "      <td>-0.117353</td>\n",
       "      <td>-0.043314</td>\n",
       "      <td>0.250931</td>\n",
       "      <td>-0.015093</td>\n",
       "      <td>-0.071222</td>\n",
       "      <td>...</td>\n",
       "      <td>-0.039984</td>\n",
       "      <td>-0.117794</td>\n",
       "      <td>0.127565</td>\n",
       "      <td>-0.056391</td>\n",
       "      <td>0.053430</td>\n",
       "      <td>-0.053434</td>\n",
       "      <td>0.07661</td>\n",
       "      <td>0.001582</td>\n",
       "      <td>0.000059</td>\n",
       "      <td>0.000004</td>\n",
       "    </tr>\n",
       "    <tr>\n",
       "      <th>3</th>\n",
       "      <td>0.188675</td>\n",
       "      <td>-0.159608</td>\n",
       "      <td>0.193663</td>\n",
       "      <td>0.014753</td>\n",
       "      <td>-0.157558</td>\n",
       "      <td>0.056242</td>\n",
       "      <td>0.011729</td>\n",
       "      <td>-0.154307</td>\n",
       "      <td>-0.015093</td>\n",
       "      <td>-0.071222</td>\n",
       "      <td>...</td>\n",
       "      <td>-0.039984</td>\n",
       "      <td>0.006042</td>\n",
       "      <td>-0.217053</td>\n",
       "      <td>-0.056391</td>\n",
       "      <td>-0.148737</td>\n",
       "      <td>-0.053434</td>\n",
       "      <td>0.07661</td>\n",
       "      <td>0.001582</td>\n",
       "      <td>0.000059</td>\n",
       "      <td>0.000004</td>\n",
       "    </tr>\n",
       "    <tr>\n",
       "      <th>4</th>\n",
       "      <td>0.188675</td>\n",
       "      <td>0.150280</td>\n",
       "      <td>-0.231527</td>\n",
       "      <td>0.014753</td>\n",
       "      <td>0.071397</td>\n",
       "      <td>-0.117353</td>\n",
       "      <td>0.009936</td>\n",
       "      <td>0.250931</td>\n",
       "      <td>0.033490</td>\n",
       "      <td>-0.071222</td>\n",
       "      <td>...</td>\n",
       "      <td>0.125786</td>\n",
       "      <td>0.006042</td>\n",
       "      <td>0.127565</td>\n",
       "      <td>-0.056391</td>\n",
       "      <td>0.053430</td>\n",
       "      <td>0.193464</td>\n",
       "      <td>0.07661</td>\n",
       "      <td>0.001582</td>\n",
       "      <td>0.000059</td>\n",
       "      <td>0.000004</td>\n",
       "    </tr>\n",
       "  </tbody>\n",
       "</table>\n",
       "<p>5 rows × 43 columns</p>\n",
       "</div>"
      ],
      "text/plain": [
       "        f_0       f_1       f_2       f_3       f_4       f_5       f_6  \\\n",
       "0  0.188675 -0.159608 -0.231527  0.014753  0.071397  0.056242  0.036835   \n",
       "1  0.188675  0.150280  0.857622  0.014753  0.071397  0.056242  0.009936   \n",
       "2  0.188675  0.150280  0.374633 -0.427263  0.071397 -0.117353 -0.043314   \n",
       "3  0.188675 -0.159608  0.193663  0.014753 -0.157558  0.056242  0.011729   \n",
       "4  0.188675  0.150280 -0.231527  0.014753  0.071397 -0.117353  0.009936   \n",
       "\n",
       "        f_7       f_8       f_9    ...         f_33      f_34      f_35  \\\n",
       "0 -0.154307 -0.015093 -0.071222    ...    -0.039984  0.006042  0.127565   \n",
       "1  0.250931 -0.015093 -0.071222    ...    -0.039984  0.006042  0.127565   \n",
       "2  0.250931 -0.015093 -0.071222    ...    -0.039984 -0.117794  0.127565   \n",
       "3 -0.154307 -0.015093 -0.071222    ...    -0.039984  0.006042 -0.217053   \n",
       "4  0.250931  0.033490 -0.071222    ...     0.125786  0.006042  0.127565   \n",
       "\n",
       "       f_36      f_37      f_38     f_39      f_40      f_41      f_42  \n",
       "0 -0.056391  0.053430 -0.053434  0.07661 -0.026618  0.000059  0.000004  \n",
       "1 -0.056391  0.053430 -0.053434  0.07661  0.001582  0.000059  0.000004  \n",
       "2 -0.056391  0.053430 -0.053434  0.07661  0.001582  0.000059  0.000004  \n",
       "3 -0.056391 -0.148737 -0.053434  0.07661  0.001582  0.000059  0.000004  \n",
       "4 -0.056391  0.053430  0.193464  0.07661  0.001582  0.000059  0.000004  \n",
       "\n",
       "[5 rows x 43 columns]"
      ]
     },
     "execution_count": 114,
     "metadata": {},
     "output_type": "execute_result"
    }
   ],
   "source": [
    "x_test_enc = enc.transform( cats_test )\n",
    "x_test_enc.head()"
   ]
  },
  {
   "cell_type": "code",
   "execution_count": 116,
   "metadata": {},
   "outputs": [
    {
     "data": {
      "text/html": [
       "<div>\n",
       "<style scoped>\n",
       "    .dataframe tbody tr th:only-of-type {\n",
       "        vertical-align: middle;\n",
       "    }\n",
       "\n",
       "    .dataframe tbody tr th {\n",
       "        vertical-align: top;\n",
       "    }\n",
       "\n",
       "    .dataframe thead th {\n",
       "        text-align: right;\n",
       "    }\n",
       "</style>\n",
       "<table border=\"1\" class=\"dataframe\">\n",
       "  <thead>\n",
       "    <tr style=\"text-align: right;\">\n",
       "      <th></th>\n",
       "      <th>NAME_INCOME_TYPE</th>\n",
       "      <th>EMERGENCYSTATE_MODE</th>\n",
       "      <th>OCCUPATION_TYPE</th>\n",
       "      <th>NAME_TYPE_SUITE</th>\n",
       "      <th>FONDKAPREMONT_MODE</th>\n",
       "      <th>FLAG_OWN_CAR</th>\n",
       "      <th>WEEKDAY_APPR_PROCESS_START</th>\n",
       "      <th>CODE_GENDER</th>\n",
       "      <th>FLAG_OWN_REALTY</th>\n",
       "      <th>NAME_FAMILY_STATUS</th>\n",
       "      <th>...</th>\n",
       "      <th>MEAN(card.CNT_DRAWINGS_POS_CURRENT)</th>\n",
       "      <th>MEAN(prev.CNT_PAYMENT)</th>\n",
       "      <th>MAX(card.AMT_RECIVABLE)</th>\n",
       "      <th>LAST(prev.AMT_CREDIT)</th>\n",
       "      <th>LAST(card.AMT_PAYMENT_CURRENT)</th>\n",
       "      <th>MEAN(prev.DAYS_LAST_DUE_1ST_VERSION)</th>\n",
       "      <th>MAX(card.CNT_DRAWINGS_OTHER_CURRENT)</th>\n",
       "      <th>MEAN(bureau.AMT_CREDIT_SUM_DEBT)</th>\n",
       "      <th>LAST(card.AMT_PAYMENT_TOTAL_CURRENT)</th>\n",
       "      <th>MAX(prev.RATE_INTEREST_PRIVILEGED)</th>\n",
       "    </tr>\n",
       "  </thead>\n",
       "  <tbody>\n",
       "    <tr>\n",
       "      <th>0</th>\n",
       "      <td>0.188675</td>\n",
       "      <td>-0.159608</td>\n",
       "      <td>0.297977</td>\n",
       "      <td>0.014753</td>\n",
       "      <td>-0.157558</td>\n",
       "      <td>0.056242</td>\n",
       "      <td>0.011729</td>\n",
       "      <td>0.250931</td>\n",
       "      <td>-0.015093</td>\n",
       "      <td>0.213706</td>\n",
       "      <td>...</td>\n",
       "      <td>0.0</td>\n",
       "      <td>24.000000</td>\n",
       "      <td>0.0</td>\n",
       "      <td>179055.0</td>\n",
       "      <td>0.0</td>\n",
       "      <td>125.000000</td>\n",
       "      <td>0.0</td>\n",
       "      <td>49156.2</td>\n",
       "      <td>0.0</td>\n",
       "      <td>0.0</td>\n",
       "    </tr>\n",
       "    <tr>\n",
       "      <th>1</th>\n",
       "      <td>-0.363350</td>\n",
       "      <td>-0.159608</td>\n",
       "      <td>-0.266393</td>\n",
       "      <td>-0.080601</td>\n",
       "      <td>-0.157558</td>\n",
       "      <td>0.056242</td>\n",
       "      <td>-0.043314</td>\n",
       "      <td>-0.154307</td>\n",
       "      <td>0.033490</td>\n",
       "      <td>-0.071222</td>\n",
       "      <td>...</td>\n",
       "      <td>0.0</td>\n",
       "      <td>10.000000</td>\n",
       "      <td>0.0</td>\n",
       "      <td>348637.5</td>\n",
       "      <td>0.0</td>\n",
       "      <td>-1004.333333</td>\n",
       "      <td>0.0</td>\n",
       "      <td>0.0</td>\n",
       "      <td>0.0</td>\n",
       "      <td>0.0</td>\n",
       "    </tr>\n",
       "    <tr>\n",
       "      <th>2</th>\n",
       "      <td>0.188675</td>\n",
       "      <td>0.150280</td>\n",
       "      <td>0.297977</td>\n",
       "      <td>0.014753</td>\n",
       "      <td>0.071397</td>\n",
       "      <td>-0.117353</td>\n",
       "      <td>-0.043314</td>\n",
       "      <td>0.250931</td>\n",
       "      <td>-0.015093</td>\n",
       "      <td>0.213706</td>\n",
       "      <td>...</td>\n",
       "      <td>0.0</td>\n",
       "      <td>4.000000</td>\n",
       "      <td>0.0</td>\n",
       "      <td>20106.0</td>\n",
       "      <td>0.0</td>\n",
       "      <td>-694.000000</td>\n",
       "      <td>0.0</td>\n",
       "      <td>0.0</td>\n",
       "      <td>0.0</td>\n",
       "      <td>0.0</td>\n",
       "    </tr>\n",
       "    <tr>\n",
       "      <th>3</th>\n",
       "      <td>0.188675</td>\n",
       "      <td>0.150280</td>\n",
       "      <td>0.297977</td>\n",
       "      <td>0.014753</td>\n",
       "      <td>0.071397</td>\n",
       "      <td>0.056242</td>\n",
       "      <td>0.011729</td>\n",
       "      <td>-0.154307</td>\n",
       "      <td>-0.015093</td>\n",
       "      <td>0.229088</td>\n",
       "      <td>...</td>\n",
       "      <td>0.0</td>\n",
       "      <td>23.000000</td>\n",
       "      <td>0.0</td>\n",
       "      <td>0.0</td>\n",
       "      <td>0.0</td>\n",
       "      <td>91584.000000</td>\n",
       "      <td>0.0</td>\n",
       "      <td>0.0</td>\n",
       "      <td>0.0</td>\n",
       "      <td>0.0</td>\n",
       "    </tr>\n",
       "    <tr>\n",
       "      <th>4</th>\n",
       "      <td>0.188675</td>\n",
       "      <td>0.150280</td>\n",
       "      <td>-0.266393</td>\n",
       "      <td>0.014753</td>\n",
       "      <td>0.071397</td>\n",
       "      <td>0.056242</td>\n",
       "      <td>0.003683</td>\n",
       "      <td>0.250931</td>\n",
       "      <td>-0.015093</td>\n",
       "      <td>0.213706</td>\n",
       "      <td>...</td>\n",
       "      <td>0.0</td>\n",
       "      <td>20.666667</td>\n",
       "      <td>0.0</td>\n",
       "      <td>284400.0</td>\n",
       "      <td>0.0</td>\n",
       "      <td>-837.200000</td>\n",
       "      <td>0.0</td>\n",
       "      <td>0.0</td>\n",
       "      <td>0.0</td>\n",
       "      <td>0.0</td>\n",
       "    </tr>\n",
       "  </tbody>\n",
       "</table>\n",
       "<p>5 rows × 269 columns</p>\n",
       "</div>"
      ],
      "text/plain": [
       "   NAME_INCOME_TYPE  EMERGENCYSTATE_MODE  OCCUPATION_TYPE  NAME_TYPE_SUITE  \\\n",
       "0          0.188675            -0.159608         0.297977         0.014753   \n",
       "1         -0.363350            -0.159608        -0.266393        -0.080601   \n",
       "2          0.188675             0.150280         0.297977         0.014753   \n",
       "3          0.188675             0.150280         0.297977         0.014753   \n",
       "4          0.188675             0.150280        -0.266393         0.014753   \n",
       "\n",
       "   FONDKAPREMONT_MODE  FLAG_OWN_CAR  WEEKDAY_APPR_PROCESS_START  CODE_GENDER  \\\n",
       "0           -0.157558      0.056242                    0.011729     0.250931   \n",
       "1           -0.157558      0.056242                   -0.043314    -0.154307   \n",
       "2            0.071397     -0.117353                   -0.043314     0.250931   \n",
       "3            0.071397      0.056242                    0.011729    -0.154307   \n",
       "4            0.071397      0.056242                    0.003683     0.250931   \n",
       "\n",
       "   FLAG_OWN_REALTY  NAME_FAMILY_STATUS                 ...                  \\\n",
       "0        -0.015093            0.213706                 ...                   \n",
       "1         0.033490           -0.071222                 ...                   \n",
       "2        -0.015093            0.213706                 ...                   \n",
       "3        -0.015093            0.229088                 ...                   \n",
       "4        -0.015093            0.213706                 ...                   \n",
       "\n",
       "   MEAN(card.CNT_DRAWINGS_POS_CURRENT)  MEAN(prev.CNT_PAYMENT)  \\\n",
       "0                                  0.0               24.000000   \n",
       "1                                  0.0               10.000000   \n",
       "2                                  0.0                4.000000   \n",
       "3                                  0.0               23.000000   \n",
       "4                                  0.0               20.666667   \n",
       "\n",
       "   MAX(card.AMT_RECIVABLE)  LAST(prev.AMT_CREDIT)  \\\n",
       "0                      0.0               179055.0   \n",
       "1                      0.0               348637.5   \n",
       "2                      0.0                20106.0   \n",
       "3                      0.0                    0.0   \n",
       "4                      0.0               284400.0   \n",
       "\n",
       "   LAST(card.AMT_PAYMENT_CURRENT)  MEAN(prev.DAYS_LAST_DUE_1ST_VERSION)  \\\n",
       "0                             0.0                            125.000000   \n",
       "1                             0.0                          -1004.333333   \n",
       "2                             0.0                           -694.000000   \n",
       "3                             0.0                          91584.000000   \n",
       "4                             0.0                           -837.200000   \n",
       "\n",
       "   MAX(card.CNT_DRAWINGS_OTHER_CURRENT)  MEAN(bureau.AMT_CREDIT_SUM_DEBT)  \\\n",
       "0                                   0.0                           49156.2   \n",
       "1                                   0.0                               0.0   \n",
       "2                                   0.0                               0.0   \n",
       "3                                   0.0                               0.0   \n",
       "4                                   0.0                               0.0   \n",
       "\n",
       "   LAST(card.AMT_PAYMENT_TOTAL_CURRENT)  MAX(prev.RATE_INTEREST_PRIVILEGED)  \n",
       "0                                   0.0                                 0.0  \n",
       "1                                   0.0                                 0.0  \n",
       "2                                   0.0                                 0.0  \n",
       "3                                   0.0                                 0.0  \n",
       "4                                   0.0                                 0.0  \n",
       "\n",
       "[5 rows x 269 columns]"
      ]
     },
     "execution_count": 116,
     "metadata": {},
     "output_type": "execute_result"
    }
   ],
   "source": [
    "\n",
    "df_train.loc[: ,   df_train.columns[:43]] = x_train_enc.values\n",
    "df_train.head()"
   ]
  },
  {
   "cell_type": "code",
   "execution_count": 103,
   "metadata": {},
   "outputs": [
    {
     "data": {
      "text/plain": [
       "(48744, 43)"
      ]
     },
     "execution_count": 103,
     "metadata": {},
     "output_type": "execute_result"
    }
   ],
   "source": [
    "x_test_enc.shape"
   ]
  },
  {
   "cell_type": "code",
   "execution_count": 104,
   "metadata": {},
   "outputs": [
    {
     "data": {
      "text/plain": [
       "(48744, 269)"
      ]
     },
     "execution_count": 104,
     "metadata": {},
     "output_type": "execute_result"
    }
   ],
   "source": [
    "df_test.shape"
   ]
  },
  {
   "cell_type": "code",
   "execution_count": 117,
   "metadata": {},
   "outputs": [],
   "source": [
    "df_test.loc[: , df_test.columns[:43] ] = x_test_enc.values"
   ]
  },
  {
   "cell_type": "code",
   "execution_count": 118,
   "metadata": {},
   "outputs": [
    {
     "data": {
      "text/html": [
       "<div>\n",
       "<style scoped>\n",
       "    .dataframe tbody tr th:only-of-type {\n",
       "        vertical-align: middle;\n",
       "    }\n",
       "\n",
       "    .dataframe tbody tr th {\n",
       "        vertical-align: top;\n",
       "    }\n",
       "\n",
       "    .dataframe thead th {\n",
       "        text-align: right;\n",
       "    }\n",
       "</style>\n",
       "<table border=\"1\" class=\"dataframe\">\n",
       "  <thead>\n",
       "    <tr style=\"text-align: right;\">\n",
       "      <th></th>\n",
       "      <th>f_0</th>\n",
       "      <th>f_1</th>\n",
       "      <th>f_2</th>\n",
       "      <th>f_3</th>\n",
       "      <th>f_4</th>\n",
       "      <th>f_5</th>\n",
       "      <th>f_6</th>\n",
       "      <th>f_7</th>\n",
       "      <th>f_8</th>\n",
       "      <th>f_9</th>\n",
       "      <th>...</th>\n",
       "      <th>f_33</th>\n",
       "      <th>f_34</th>\n",
       "      <th>f_35</th>\n",
       "      <th>f_36</th>\n",
       "      <th>f_37</th>\n",
       "      <th>f_38</th>\n",
       "      <th>f_39</th>\n",
       "      <th>f_40</th>\n",
       "      <th>f_41</th>\n",
       "      <th>f_42</th>\n",
       "    </tr>\n",
       "  </thead>\n",
       "  <tbody>\n",
       "    <tr>\n",
       "      <th>0</th>\n",
       "      <td>0.188675</td>\n",
       "      <td>-0.159608</td>\n",
       "      <td>-0.231527</td>\n",
       "      <td>0.014753</td>\n",
       "      <td>0.071397</td>\n",
       "      <td>0.056242</td>\n",
       "      <td>0.036835</td>\n",
       "      <td>-0.154307</td>\n",
       "      <td>-0.015093</td>\n",
       "      <td>-0.071222</td>\n",
       "      <td>...</td>\n",
       "      <td>-0.039984</td>\n",
       "      <td>0.006042</td>\n",
       "      <td>0.127565</td>\n",
       "      <td>-0.056391</td>\n",
       "      <td>0.053430</td>\n",
       "      <td>-0.053434</td>\n",
       "      <td>0.07661</td>\n",
       "      <td>-0.026618</td>\n",
       "      <td>0.000059</td>\n",
       "      <td>0.000004</td>\n",
       "    </tr>\n",
       "    <tr>\n",
       "      <th>1</th>\n",
       "      <td>0.188675</td>\n",
       "      <td>0.150280</td>\n",
       "      <td>0.857622</td>\n",
       "      <td>0.014753</td>\n",
       "      <td>0.071397</td>\n",
       "      <td>0.056242</td>\n",
       "      <td>0.009936</td>\n",
       "      <td>0.250931</td>\n",
       "      <td>-0.015093</td>\n",
       "      <td>-0.071222</td>\n",
       "      <td>...</td>\n",
       "      <td>-0.039984</td>\n",
       "      <td>0.006042</td>\n",
       "      <td>0.127565</td>\n",
       "      <td>-0.056391</td>\n",
       "      <td>0.053430</td>\n",
       "      <td>-0.053434</td>\n",
       "      <td>0.07661</td>\n",
       "      <td>0.001582</td>\n",
       "      <td>0.000059</td>\n",
       "      <td>0.000004</td>\n",
       "    </tr>\n",
       "    <tr>\n",
       "      <th>2</th>\n",
       "      <td>0.188675</td>\n",
       "      <td>0.150280</td>\n",
       "      <td>0.374633</td>\n",
       "      <td>-0.427263</td>\n",
       "      <td>0.071397</td>\n",
       "      <td>-0.117353</td>\n",
       "      <td>-0.043314</td>\n",
       "      <td>0.250931</td>\n",
       "      <td>-0.015093</td>\n",
       "      <td>-0.071222</td>\n",
       "      <td>...</td>\n",
       "      <td>-0.039984</td>\n",
       "      <td>-0.117794</td>\n",
       "      <td>0.127565</td>\n",
       "      <td>-0.056391</td>\n",
       "      <td>0.053430</td>\n",
       "      <td>-0.053434</td>\n",
       "      <td>0.07661</td>\n",
       "      <td>0.001582</td>\n",
       "      <td>0.000059</td>\n",
       "      <td>0.000004</td>\n",
       "    </tr>\n",
       "    <tr>\n",
       "      <th>3</th>\n",
       "      <td>0.188675</td>\n",
       "      <td>-0.159608</td>\n",
       "      <td>0.193663</td>\n",
       "      <td>0.014753</td>\n",
       "      <td>-0.157558</td>\n",
       "      <td>0.056242</td>\n",
       "      <td>0.011729</td>\n",
       "      <td>-0.154307</td>\n",
       "      <td>-0.015093</td>\n",
       "      <td>-0.071222</td>\n",
       "      <td>...</td>\n",
       "      <td>-0.039984</td>\n",
       "      <td>0.006042</td>\n",
       "      <td>-0.217053</td>\n",
       "      <td>-0.056391</td>\n",
       "      <td>-0.148737</td>\n",
       "      <td>-0.053434</td>\n",
       "      <td>0.07661</td>\n",
       "      <td>0.001582</td>\n",
       "      <td>0.000059</td>\n",
       "      <td>0.000004</td>\n",
       "    </tr>\n",
       "    <tr>\n",
       "      <th>4</th>\n",
       "      <td>0.188675</td>\n",
       "      <td>0.150280</td>\n",
       "      <td>-0.231527</td>\n",
       "      <td>0.014753</td>\n",
       "      <td>0.071397</td>\n",
       "      <td>-0.117353</td>\n",
       "      <td>0.009936</td>\n",
       "      <td>0.250931</td>\n",
       "      <td>0.033490</td>\n",
       "      <td>-0.071222</td>\n",
       "      <td>...</td>\n",
       "      <td>0.125786</td>\n",
       "      <td>0.006042</td>\n",
       "      <td>0.127565</td>\n",
       "      <td>-0.056391</td>\n",
       "      <td>0.053430</td>\n",
       "      <td>0.193464</td>\n",
       "      <td>0.07661</td>\n",
       "      <td>0.001582</td>\n",
       "      <td>0.000059</td>\n",
       "      <td>0.000004</td>\n",
       "    </tr>\n",
       "  </tbody>\n",
       "</table>\n",
       "<p>5 rows × 43 columns</p>\n",
       "</div>"
      ],
      "text/plain": [
       "        f_0       f_1       f_2       f_3       f_4       f_5       f_6  \\\n",
       "0  0.188675 -0.159608 -0.231527  0.014753  0.071397  0.056242  0.036835   \n",
       "1  0.188675  0.150280  0.857622  0.014753  0.071397  0.056242  0.009936   \n",
       "2  0.188675  0.150280  0.374633 -0.427263  0.071397 -0.117353 -0.043314   \n",
       "3  0.188675 -0.159608  0.193663  0.014753 -0.157558  0.056242  0.011729   \n",
       "4  0.188675  0.150280 -0.231527  0.014753  0.071397 -0.117353  0.009936   \n",
       "\n",
       "        f_7       f_8       f_9    ...         f_33      f_34      f_35  \\\n",
       "0 -0.154307 -0.015093 -0.071222    ...    -0.039984  0.006042  0.127565   \n",
       "1  0.250931 -0.015093 -0.071222    ...    -0.039984  0.006042  0.127565   \n",
       "2  0.250931 -0.015093 -0.071222    ...    -0.039984 -0.117794  0.127565   \n",
       "3 -0.154307 -0.015093 -0.071222    ...    -0.039984  0.006042 -0.217053   \n",
       "4  0.250931  0.033490 -0.071222    ...     0.125786  0.006042  0.127565   \n",
       "\n",
       "       f_36      f_37      f_38     f_39      f_40      f_41      f_42  \n",
       "0 -0.056391  0.053430 -0.053434  0.07661 -0.026618  0.000059  0.000004  \n",
       "1 -0.056391  0.053430 -0.053434  0.07661  0.001582  0.000059  0.000004  \n",
       "2 -0.056391  0.053430 -0.053434  0.07661  0.001582  0.000059  0.000004  \n",
       "3 -0.056391 -0.148737 -0.053434  0.07661  0.001582  0.000059  0.000004  \n",
       "4 -0.056391  0.053430  0.193464  0.07661  0.001582  0.000059  0.000004  \n",
       "\n",
       "[5 rows x 43 columns]"
      ]
     },
     "execution_count": 118,
     "metadata": {},
     "output_type": "execute_result"
    }
   ],
   "source": [
    "x_test_enc.head()"
   ]
  },
  {
   "cell_type": "code",
   "execution_count": 119,
   "metadata": {},
   "outputs": [],
   "source": [
    "df_test.to_csv( \"../data/test_woe.csv\" , index = False )\n",
    "df_train.to_csv(\"../data/train_woe.csv\" , index = False )"
   ]
  },
  {
   "cell_type": "code",
   "execution_count": 122,
   "metadata": {},
   "outputs": [
    {
     "data": {
      "text/html": [
       "<div>\n",
       "<style scoped>\n",
       "    .dataframe tbody tr th:only-of-type {\n",
       "        vertical-align: middle;\n",
       "    }\n",
       "\n",
       "    .dataframe tbody tr th {\n",
       "        vertical-align: top;\n",
       "    }\n",
       "\n",
       "    .dataframe thead th {\n",
       "        text-align: right;\n",
       "    }\n",
       "</style>\n",
       "<table border=\"1\" class=\"dataframe\">\n",
       "  <thead>\n",
       "    <tr style=\"text-align: right;\">\n",
       "      <th></th>\n",
       "      <th>f_0</th>\n",
       "      <th>f_1</th>\n",
       "      <th>f_2</th>\n",
       "      <th>f_3</th>\n",
       "      <th>f_4</th>\n",
       "      <th>f_5</th>\n",
       "      <th>f_6</th>\n",
       "      <th>f_7</th>\n",
       "      <th>f_8</th>\n",
       "      <th>f_9</th>\n",
       "      <th>...</th>\n",
       "      <th>f_33</th>\n",
       "      <th>f_34</th>\n",
       "      <th>f_35</th>\n",
       "      <th>f_36</th>\n",
       "      <th>f_37</th>\n",
       "      <th>f_38</th>\n",
       "      <th>f_39</th>\n",
       "      <th>f_40</th>\n",
       "      <th>f_41</th>\n",
       "      <th>f_42</th>\n",
       "    </tr>\n",
       "  </thead>\n",
       "  <tbody>\n",
       "    <tr>\n",
       "      <th>0</th>\n",
       "      <td>0.188675</td>\n",
       "      <td>-0.159608</td>\n",
       "      <td>0.297977</td>\n",
       "      <td>0.014753</td>\n",
       "      <td>-0.157558</td>\n",
       "      <td>0.056242</td>\n",
       "      <td>0.011729</td>\n",
       "      <td>0.250931</td>\n",
       "      <td>-0.015093</td>\n",
       "      <td>0.213706</td>\n",
       "      <td>...</td>\n",
       "      <td>0.125786</td>\n",
       "      <td>-0.117794</td>\n",
       "      <td>-0.100465</td>\n",
       "      <td>-0.056391</td>\n",
       "      <td>-0.148737</td>\n",
       "      <td>-0.053434</td>\n",
       "      <td>0.07661</td>\n",
       "      <td>0.001582</td>\n",
       "      <td>0.000059</td>\n",
       "      <td>0.000004</td>\n",
       "    </tr>\n",
       "    <tr>\n",
       "      <th>1</th>\n",
       "      <td>-0.363350</td>\n",
       "      <td>-0.159608</td>\n",
       "      <td>-0.266393</td>\n",
       "      <td>-0.080601</td>\n",
       "      <td>-0.157558</td>\n",
       "      <td>0.056242</td>\n",
       "      <td>-0.043314</td>\n",
       "      <td>-0.154307</td>\n",
       "      <td>0.033490</td>\n",
       "      <td>-0.071222</td>\n",
       "      <td>...</td>\n",
       "      <td>-0.039984</td>\n",
       "      <td>-0.117794</td>\n",
       "      <td>-0.322493</td>\n",
       "      <td>-0.056391</td>\n",
       "      <td>-0.148737</td>\n",
       "      <td>-0.053434</td>\n",
       "      <td>0.07661</td>\n",
       "      <td>0.001582</td>\n",
       "      <td>0.000059</td>\n",
       "      <td>0.000004</td>\n",
       "    </tr>\n",
       "    <tr>\n",
       "      <th>2</th>\n",
       "      <td>0.188675</td>\n",
       "      <td>0.150280</td>\n",
       "      <td>0.297977</td>\n",
       "      <td>0.014753</td>\n",
       "      <td>0.071397</td>\n",
       "      <td>-0.117353</td>\n",
       "      <td>-0.043314</td>\n",
       "      <td>0.250931</td>\n",
       "      <td>-0.015093</td>\n",
       "      <td>0.213706</td>\n",
       "      <td>...</td>\n",
       "      <td>-0.039984</td>\n",
       "      <td>-0.052128</td>\n",
       "      <td>-0.073842</td>\n",
       "      <td>-0.056391</td>\n",
       "      <td>-0.148737</td>\n",
       "      <td>0.193464</td>\n",
       "      <td>0.07661</td>\n",
       "      <td>0.001582</td>\n",
       "      <td>0.000059</td>\n",
       "      <td>0.000004</td>\n",
       "    </tr>\n",
       "    <tr>\n",
       "      <th>3</th>\n",
       "      <td>0.188675</td>\n",
       "      <td>0.150280</td>\n",
       "      <td>0.297977</td>\n",
       "      <td>0.014753</td>\n",
       "      <td>0.071397</td>\n",
       "      <td>0.056242</td>\n",
       "      <td>0.011729</td>\n",
       "      <td>-0.154307</td>\n",
       "      <td>-0.015093</td>\n",
       "      <td>0.229088</td>\n",
       "      <td>...</td>\n",
       "      <td>0.125786</td>\n",
       "      <td>0.056693</td>\n",
       "      <td>0.327418</td>\n",
       "      <td>0.225935</td>\n",
       "      <td>0.053430</td>\n",
       "      <td>-0.053434</td>\n",
       "      <td>0.07661</td>\n",
       "      <td>0.001582</td>\n",
       "      <td>0.000059</td>\n",
       "      <td>0.000004</td>\n",
       "    </tr>\n",
       "    <tr>\n",
       "      <th>4</th>\n",
       "      <td>0.188675</td>\n",
       "      <td>0.150280</td>\n",
       "      <td>-0.266393</td>\n",
       "      <td>0.014753</td>\n",
       "      <td>0.071397</td>\n",
       "      <td>0.056242</td>\n",
       "      <td>0.003683</td>\n",
       "      <td>0.250931</td>\n",
       "      <td>-0.015093</td>\n",
       "      <td>0.213706</td>\n",
       "      <td>...</td>\n",
       "      <td>-0.039984</td>\n",
       "      <td>0.435220</td>\n",
       "      <td>-0.095607</td>\n",
       "      <td>0.068888</td>\n",
       "      <td>0.053430</td>\n",
       "      <td>-0.053434</td>\n",
       "      <td>0.07661</td>\n",
       "      <td>0.001582</td>\n",
       "      <td>0.000059</td>\n",
       "      <td>0.000004</td>\n",
       "    </tr>\n",
       "  </tbody>\n",
       "</table>\n",
       "<p>5 rows × 43 columns</p>\n",
       "</div>"
      ],
      "text/plain": [
       "        f_0       f_1       f_2       f_3       f_4       f_5       f_6  \\\n",
       "0  0.188675 -0.159608  0.297977  0.014753 -0.157558  0.056242  0.011729   \n",
       "1 -0.363350 -0.159608 -0.266393 -0.080601 -0.157558  0.056242 -0.043314   \n",
       "2  0.188675  0.150280  0.297977  0.014753  0.071397 -0.117353 -0.043314   \n",
       "3  0.188675  0.150280  0.297977  0.014753  0.071397  0.056242  0.011729   \n",
       "4  0.188675  0.150280 -0.266393  0.014753  0.071397  0.056242  0.003683   \n",
       "\n",
       "        f_7       f_8       f_9    ...         f_33      f_34      f_35  \\\n",
       "0  0.250931 -0.015093  0.213706    ...     0.125786 -0.117794 -0.100465   \n",
       "1 -0.154307  0.033490 -0.071222    ...    -0.039984 -0.117794 -0.322493   \n",
       "2  0.250931 -0.015093  0.213706    ...    -0.039984 -0.052128 -0.073842   \n",
       "3 -0.154307 -0.015093  0.229088    ...     0.125786  0.056693  0.327418   \n",
       "4  0.250931 -0.015093  0.213706    ...    -0.039984  0.435220 -0.095607   \n",
       "\n",
       "       f_36      f_37      f_38     f_39      f_40      f_41      f_42  \n",
       "0 -0.056391 -0.148737 -0.053434  0.07661  0.001582  0.000059  0.000004  \n",
       "1 -0.056391 -0.148737 -0.053434  0.07661  0.001582  0.000059  0.000004  \n",
       "2 -0.056391 -0.148737  0.193464  0.07661  0.001582  0.000059  0.000004  \n",
       "3  0.225935  0.053430 -0.053434  0.07661  0.001582  0.000059  0.000004  \n",
       "4  0.068888  0.053430 -0.053434  0.07661  0.001582  0.000059  0.000004  \n",
       "\n",
       "[5 rows x 43 columns]"
      ]
     },
     "execution_count": 122,
     "metadata": {},
     "output_type": "execute_result"
    }
   ],
   "source": [
    "\n",
    "x_train_enc.head()"
   ]
  },
  {
   "cell_type": "code",
   "execution_count": 144,
   "metadata": {},
   "outputs": [
    {
     "data": {
      "image/png": "[encoded data removed]",
      "text/plain": [
       "<Figure size 432x288 with 1 Axes>"
      ]
     },
     "metadata": {},
     "output_type": "display_data"
    },
    {
     "data": {
      "image/png": "[encoded data removed]",
      "text/plain": [
       "<Figure size 432x288 with 1 Axes>"
      ]
     },
     "metadata": {},
     "output_type": "display_data"
    },
    {
     "data": {
      "image/png": "[encoded data removed]",
      "text/plain": [
       "<Figure size 432x288 with 1 Axes>"
      ]
     },
     "metadata": {},
     "output_type": "display_data"
    },
    {
     "data": {
      "image/png": "[encoded data removed]",
      "text/plain": [
       "<Figure size 432x288 with 1 Axes>"
      ]
     },
     "metadata": {},
     "output_type": "display_data"
    },
    {
     "data": {
      "image/png": "[encoded data removed]",
      "text/plain": [
       "<Figure size 432x288 with 1 Axes>"
      ]
     },
     "metadata": {},
     "output_type": "display_data"
    },
    {
     "data": {
      "image/png": "[encoded data removed]",
      "text/plain": [
       "<Figure size 432x288 with 1 Axes>"
      ]
     },
     "metadata": {},
     "output_type": "display_data"
    },
    {
     "data": {
      "image/png": "[encoded data removed]",
      "text/plain": [
       "<Figure size 432x288 with 1 Axes>"
      ]
     },
     "metadata": {},
     "output_type": "display_data"
    },
    {
     "data": {
      "image/png": "[encoded data removed]",
      "text/plain": [
       "<Figure size 432x288 with 1 Axes>"
      ]
     },
     "metadata": {},
     "output_type": "display_data"
    },
    {
     "data": {
      "image/png": "[encoded data removed]",
      "text/plain": [
       "<Figure size 432x288 with 1 Axes>"
      ]
     },
     "metadata": {},
     "output_type": "display_data"
    },
    {
     "data": {
      "image/png": "[encoded data removed]",
      "text/plain": [
       "<Figure size 432x288 with 1 Axes>"
      ]
     },
     "metadata": {},
     "output_type": "display_data"
    },
    {
     "data": {
      "image/png": "[encoded data removed]",
      "text/plain": [
       "<Figure size 432x288 with 1 Axes>"
      ]
     },
     "metadata": {},
     "output_type": "display_data"
    },
    {
     "data": {
      "image/png": "[encoded data removed]",
      "text/plain": [
       "<Figure size 432x288 with 1 Axes>"
      ]
     },
     "metadata": {},
     "output_type": "display_data"
    },
    {
     "data": {
      "image/png": "[encoded data removed]",
      "text/plain": [
       "<Figure size 432x288 with 1 Axes>"
      ]
     },
     "metadata": {},
     "output_type": "display_data"
    },
    {
     "data": {
      "image/png": "[encoded data removed]",
      "text/plain": [
       "<Figure size 432x288 with 1 Axes>"
      ]
     },
     "metadata": {},
     "output_type": "display_data"
    },
    {
     "data": {
      "image/png": "[encoded data removed]",
      "text/plain": [
       "<Figure size 432x288 with 1 Axes>"
      ]
     },
     "metadata": {},
     "output_type": "display_data"
    },
    {
     "data": {
      "image/png": "[encoded data removed]",
      "text/plain": [
       "<Figure size 432x288 with 1 Axes>"
      ]
     },
     "metadata": {},
     "output_type": "display_data"
    },
    {
     "data": {
      "image/png": "[encoded data removed]",
      "text/plain": [
       "<Figure size 432x288 with 1 Axes>"
      ]
     },
     "metadata": {},
     "output_type": "display_data"
    },
    {
     "data": {
      "image/png": "[encoded data removed]",
      "text/plain": [
       "<Figure size 432x288 with 1 Axes>"
      ]
     },
     "metadata": {},
     "output_type": "display_data"
    },
    {
     "data": {
      "image/png": "[encoded data removed]",
      "text/plain": [
       "<Figure size 432x288 with 1 Axes>"
      ]
     },
     "metadata": {},
     "output_type": "display_data"
    },
    {
     "data": {
      "image/png": "[encoded data removed]",
      "text/plain": [
       "<Figure size 432x288 with 1 Axes>"
      ]
     },
     "metadata": {},
     "output_type": "display_data"
    },
    {
     "data": {
      "image/png": "[encoded data removed]",
      "text/plain": [
       "<Figure size 432x288 with 1 Axes>"
      ]
     },
     "metadata": {},
     "output_type": "display_data"
    },
    {
     "data": {
      "image/png": "[encoded data removed]",
      "text/plain": [
       "<Figure size 432x288 with 1 Axes>"
      ]
     },
     "metadata": {},
     "output_type": "display_data"
    },
    {
     "data": {
      "image/png": "[encoded data removed]",
      "text/plain": [
       "<Figure size 432x288 with 1 Axes>"
      ]
     },
     "metadata": {},
     "output_type": "display_data"
    },
    {
     "data": {
      "image/png": "[encoded data removed]",
      "text/plain": [
       "<Figure size 432x288 with 1 Axes>"
      ]
     },
     "metadata": {},
     "output_type": "display_data"
    },
    {
     "data": {
      "image/png": "[encoded data removed]",
      "text/plain": [
       "<Figure size 432x288 with 1 Axes>"
      ]
     },
     "metadata": {},
     "output_type": "display_data"
    },
    {
     "data": {
      "image/png": "[encoded data removed]",
      "text/plain": [
       "<Figure size 432x288 with 1 Axes>"
      ]
     },
     "metadata": {},
     "output_type": "display_data"
    },
    {
     "data": {
      "image/png": "[encoded data removed]",
      "text/plain": [
       "<Figure size 432x288 with 1 Axes>"
      ]
     },
     "metadata": {},
     "output_type": "display_data"
    },
    {
     "data": {
      "image/png": "[encoded data removed]",
      "text/plain": [
       "<Figure size 432x288 with 1 Axes>"
      ]
     },
     "metadata": {},
     "output_type": "display_data"
    },
    {
     "data": {
      "image/png": "[encoded data removed]",
      "text/plain": [
       "<Figure size 432x288 with 1 Axes>"
      ]
     },
     "metadata": {},
     "output_type": "display_data"
    },
    {
     "data": {
      "image/png": "[encoded data removed]",
      "text/plain": [
       "<Figure size 432x288 with 1 Axes>"
      ]
     },
     "metadata": {},
     "output_type": "display_data"
    },
    {
     "data": {
      "image/png": "[encoded data removed]",
      "text/plain": [
       "<Figure size 432x288 with 1 Axes>"
      ]
     },
     "metadata": {},
     "output_type": "display_data"
    },
    {
     "data": {
      "image/png": "[encoded data removed]",
      "text/plain": [
       "<Figure size 432x288 with 1 Axes>"
      ]
     },
     "metadata": {},
     "output_type": "display_data"
    },
    {
     "data": {
      "image/png": "[encoded data removed]",
      "text/plain": [
       "<Figure size 432x288 with 1 Axes>"
      ]
     },
     "metadata": {},
     "output_type": "display_data"
    },
    {
     "data": {
      "image/png": "[encoded data removed]",
      "text/plain": [
       "<Figure size 432x288 with 1 Axes>"
      ]
     },
     "metadata": {},
     "output_type": "display_data"
    },
    {
     "data": {
      "image/png": "[encoded data removed]",
      "text/plain": [
       "<Figure size 432x288 with 1 Axes>"
      ]
     },
     "metadata": {},
     "output_type": "display_data"
    },
    {
     "data": {
      "image/png": "[encoded data removed]",
      "text/plain": [
       "<Figure size 432x288 with 1 Axes>"
      ]
     },
     "metadata": {},
     "output_type": "display_data"
    },
    {
     "data": {
      "image/png": "[encoded data removed]",
      "text/plain": [
       "<Figure size 432x288 with 1 Axes>"
      ]
     },
     "metadata": {},
     "output_type": "display_data"
    },
    {
     "data": {
      "image/png": "[encoded data removed]",
      "text/plain": [
       "<Figure size 432x288 with 1 Axes>"
      ]
     },
     "metadata": {},
     "output_type": "display_data"
    },
    {
     "data": {
      "image/png": "[encoded data removed]",
      "text/plain": [
       "<Figure size 432x288 with 1 Axes>"
      ]
     },
     "metadata": {},
     "output_type": "display_data"
    },
    {
     "data": {
      "image/png": "[encoded data removed]",
      "text/plain": [
       "<Figure size 432x288 with 1 Axes>"
      ]
     },
     "metadata": {},
     "output_type": "display_data"
    },
    {
     "data": {
      "image/png": "[encoded data removed]",
      "text/plain": [
       "<Figure size 432x288 with 1 Axes>"
      ]
     },
     "metadata": {},
     "output_type": "display_data"
    },
    {
     "data": {
      "image/png": "[encoded data removed]",
      "text/plain": [
       "<Figure size 432x288 with 1 Axes>"
      ]
     },
     "metadata": {},
     "output_type": "display_data"
    },
    {
     "data": {
      "image/png": "[encoded data removed]",
      "text/plain": [
       "<Figure size 432x288 with 1 Axes>"
      ]
     },
     "metadata": {},
     "output_type": "display_data"
    }
   ],
   "source": [
    "import matplotlib.pyplot as plt\n",
    "\n",
    "for col in x_train_enc.columns:\n",
    "    plt.hist( x_train_enc[col]  , density = True )\n",
    "    plt.hist( x_test_enc[col] , density = True , alpha = 0.5 )\n",
    "    plt.show()"
   ]
  },
  {
   "cell_type": "markdown",
   "metadata": {},
   "source": [
    "# Train on woed"
   ]
  },
  {
   "cell_type": "code",
   "execution_count": 141,
   "metadata": {},
   "outputs": [],
   "source": [
    "learning_rate = 0.1\n",
    "num_leaves = 16\n",
    "min_data_in_leaf = 2000\n",
    "feature_fraction = 0.9\n",
    "num_boost_round = 10000\n",
    "params = {\"objective\": \"binary\",\n",
    "          \"boosting_type\": \"dart\",\n",
    "          \"learning_rate\": learning_rate,\n",
    "          \"metric\":[\"auc\" ,\"binary_logloss\"] , \n",
    "          \"num_leaves\": num_leaves,\n",
    "           \"max_bin\": 256,\n",
    "          \"feature_fraction\": feature_fraction,\n",
    "          \"verbosity\": 1,\n",
    "          \"drop_rate\": 0.01,\n",
    "          \"is_unbalance\": False,\n",
    "          \"max_drop\": 50,\n",
    "          \"min_child_samples\": 20,\n",
    "          \"min_child_weight\": 150,\n",
    "          \"min_split_gain\": 0.5,\n",
    "          \"max_depth\": -1, \n",
    "          \"reg_alpha\" : 20 , \n",
    "          \"reg_lambda\": 20 , \n",
    "          \"min_gain_to_split\" : 0.5 ,\n",
    "          \"bagging_freq\" : 1 , \n",
    "          \"subsample\" : 0.9 , \n",
    "          \"device_type\": \"gpu\"\n",
    "}"
   ]
  },
  {
   "cell_type": "code",
   "execution_count": 142,
   "metadata": {},
   "outputs": [
    {
     "name": "stdout",
     "output_type": "stream",
     "text": [
      "Training until validation scores don't improve for 100 rounds.\n",
      "[100]\tvalid_0's binary_logloss: 0.268262\tvalid_0's auc: 0.666349\n",
      "[200]\tvalid_0's binary_logloss: 0.267754\tvalid_0's auc: 0.667424\n",
      "[300]\tvalid_0's binary_logloss: 0.267646\tvalid_0's auc: 0.668115\n",
      "Early stopping, best iteration is:\n",
      "[256]\tvalid_0's binary_logloss: 0.267504\tvalid_0's auc: 0.668082\n"
     ]
    },
    {
     "ename": "NameError",
     "evalue": "name 'x_enc_test' is not defined",
     "output_type": "error",
     "traceback": [
      "\u001b[0;31m---------------------------------------------------------------------------\u001b[0m",
      "\u001b[0;31mNameError\u001b[0m                                 Traceback (most recent call last)",
      "\u001b[0;32m<ipython-input-142-df643ee96b38>\u001b[0m in \u001b[0;36m<module>\u001b[0;34m()\u001b[0m\n\u001b[1;32m     27\u001b[0m         \u001b[0mbst\u001b[0m \u001b[0;34m=\u001b[0m \u001b[0mlgb\u001b[0m\u001b[0;34m.\u001b[0m\u001b[0mtrain\u001b[0m\u001b[0;34m(\u001b[0m\u001b[0mparams\u001b[0m\u001b[0;34m,\u001b[0m \u001b[0mdtrain\u001b[0m \u001b[0;34m,\u001b[0m \u001b[0mnum_boost_round\u001b[0m \u001b[0;34m,\u001b[0m \u001b[0mvalid_sets\u001b[0m\u001b[0;34m=\u001b[0m\u001b[0;34m[\u001b[0m\u001b[0mdvalid\u001b[0m \u001b[0;34m]\u001b[0m \u001b[0;34m,\u001b[0m \u001b[0mverbose_eval\u001b[0m \u001b[0;34m=\u001b[0m \u001b[0;36m100\u001b[0m \u001b[0;34m,\u001b[0m \u001b[0mearly_stopping_rounds\u001b[0m \u001b[0;34m=\u001b[0m \u001b[0;36m100\u001b[0m \u001b[0;34m)\u001b[0m\u001b[0;34m\u001b[0m\u001b[0m\n\u001b[1;32m     28\u001b[0m     \u001b[0;31m#best_trees.append(bst.best_iteration)\u001b[0m\u001b[0;34m\u001b[0m\u001b[0;34m\u001b[0m\u001b[0m\n\u001b[0;32m---> 29\u001b[0;31m         \u001b[0mcv_pred\u001b[0m \u001b[0;34m+=\u001b[0m  \u001b[0mbst\u001b[0m\u001b[0;34m.\u001b[0m\u001b[0mpredict\u001b[0m\u001b[0;34m(\u001b[0m  \u001b[0mx_enc_test\u001b[0m \u001b[0;34m,\u001b[0m \u001b[0mnum_iteration\u001b[0m \u001b[0;34m=\u001b[0m \u001b[0mbst\u001b[0m\u001b[0;34m.\u001b[0m\u001b[0mbest_iteration\u001b[0m \u001b[0;34m)\u001b[0m\u001b[0;34m\u001b[0m\u001b[0m\n\u001b[0m\u001b[1;32m     30\u001b[0m     \u001b[0;31m#cv_eval_total += bst.predict( x_val , num_iteration = bst.best_iteration )\u001b[0m\u001b[0;34m\u001b[0m\u001b[0;34m\u001b[0m\u001b[0m\n\u001b[1;32m     31\u001b[0m         \u001b[0mcv_train\u001b[0m\u001b[0;34m[\u001b[0m\u001b[0mvalidate\u001b[0m\u001b[0;34m]\u001b[0m \u001b[0;34m+=\u001b[0m \u001b[0mbst\u001b[0m\u001b[0;34m.\u001b[0m\u001b[0mpredict\u001b[0m\u001b[0;34m(\u001b[0m \u001b[0mX_validate\u001b[0m \u001b[0;34m)\u001b[0m\u001b[0;34m\u001b[0m\u001b[0m\n",
      "\u001b[0;31mNameError\u001b[0m: name 'x_enc_test' is not defined"
     ]
    }
   ],
   "source": [
    "final_cv_train = np.zeros(len(df_labels))\n",
    "final_cv_pred = np.zeros(len( test_ids ))\n",
    "\n",
    "new_train = x_train_enc.values\n",
    "labels_train = df_labels.values\n",
    "NFOLDS = 5 \n",
    "\n",
    "M = 16 \n",
    "x_score = []\n",
    "for s in range( M ):\n",
    "    \n",
    "    params['seed'] = s\n",
    "    \n",
    "    cv_train = np.zeros( len( df_labels ))\n",
    "    cv_pred = np.zeros( len( test_ids ) )\n",
    "    kfold = StratifiedKFold(n_splits=NFOLDS, shuffle=True, random_state=s)\n",
    "    kf  = kfold.split(  x_train_enc , df_labels )\n",
    "    \n",
    "    for i, (train_fold, validate) in enumerate(kf):\n",
    "        \n",
    "        X_train, X_validate, label_train, label_validate = new_train[train_fold, :], new_train[validate, :], labels_train[train_fold], labels_train[validate]\n",
    "    \n",
    "    #X_train, X_validate, label_train, label_validate = X[train_fold, :], X[validate, :], labels_train[train_fold], labels_train[validate]\n",
    "        dtrain = lgb.Dataset( X_train , label_train  )\n",
    "    \n",
    "        dvalid = lgb.Dataset(  X_validate  , label_validate , reference=dtrain )\n",
    "        bst = lgb.train(params, dtrain , num_boost_round , valid_sets=[dvalid ] , verbose_eval = 100 , early_stopping_rounds = 100 )\n",
    "    #best_trees.append(bst.best_iteration)    \n",
    "        cv_pred +=  bst.predict(  x_enc_test , num_iteration = bst.best_iteration )\n",
    "    #cv_eval_total += bst.predict( x_val , num_iteration = bst.best_iteration )          \n",
    "        cv_train[validate] += bst.predict( X_validate )\n",
    "        \n",
    "        \n",
    "    cv_pred /= NFOLDS\n",
    "    \n",
    "    final_cv_train += cv_train\n",
    "    final_cv_pred += cv_pred\n",
    "    \n",
    "    print(\"cv score - on train:\")\n",
    "    print( roc_auc_score(labels_train, cv_train))\n",
    "    print( \"current score in fold:\", roc_auc_score( labels_train , final_cv_train / (s + 1.)), s+1)\n",
    "    \n",
    "    x_score.append(roc_auc_score( labels_train , cv_train))"
   ]
  },
  {
   "cell_type": "code",
   "execution_count": null,
   "metadata": {},
   "outputs": [],
   "source": []
  },
  {
   "cell_type": "code",
   "execution_count": null,
   "metadata": {},
   "outputs": [],
   "source": []
  }
 ],
 "metadata": {
  "kernelspec": {
   "display_name": "Python 2",
   "language": "python",
   "name": "python2"
  },
  "language_info": {
   "codemirror_mode": {
    "name": "ipython",
    "version": 2
   },
   "file_extension": ".py",
   "mimetype": "text/x-python",
   "name": "python",
   "nbconvert_exporter": "python",
   "pygments_lexer": "ipython2",
   "version": "2.7.6"
  }
 },
 "nbformat": 4,
 "nbformat_minor": 2
}
