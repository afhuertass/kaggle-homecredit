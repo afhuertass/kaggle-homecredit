{
 "cells": [
  {
   "cell_type": "code",
   "execution_count": 10,
   "metadata": {},
   "outputs": [],
   "source": [
    "import pandas as pd\n",
    "import numpy as np\n",
    "from scipy.special import erfinv\n",
    "\n",
    "import matplotlib.pyplot as plt"
   ]
  },
  {
   "cell_type": "code",
   "execution_count": 36,
   "metadata": {},
   "outputs": [],
   "source": [
    "df_train = pd.read_csv(\"../data/sparse/train_good.csv\")\n",
    "df_test = pd.read_csv(\"../data/sparse/test_good.csv\")"
   ]
  },
  {
   "cell_type": "code",
   "execution_count": 37,
   "metadata": {},
   "outputs": [],
   "source": [
    "def rank_gauss(x):\n",
    "    # x is numpy vector\n",
    "    N = x.shape[0]\n",
    "    temp = x.argsort()\n",
    "    rank_x = temp.argsort() / N\n",
    "    rank_x -= rank_x.mean()\n",
    "    rank_x *= 2 # rank_x.max(), rank_x.min() should be in (-1, 1)\n",
    "    efi_x = erfinv(rank_x) # np.sqrt(2)*erfinv(rank_x)\n",
    "    efi_x -= efi_x.mean()\n",
    "    return efi_x"
   ]
  },
  {
   "cell_type": "code",
   "execution_count": 38,
   "metadata": {},
   "outputs": [],
   "source": [
    "#df_train[43:] = df_train[43:].apply( rank_gauss)\n",
    "#df_test[43:] = df_test[43:].apply(rank_gauss )\n",
    "df_train.columns = range( df_train.shape[1] )\n",
    "df_test.columns = range( df_test.shape[1] )"
   ]
  },
  {
   "cell_type": "code",
   "execution_count": 39,
   "metadata": {},
   "outputs": [],
   "source": [
    "df_train.loc[ : , 43:] = df_train.loc[ : , 43:].apply( rank_gauss )\n",
    "df_test.loc[ : , 43:] = df_test.loc[ : , 43:].apply( rank_gauss )"
   ]
  },
  {
   "cell_type": "code",
   "execution_count": 42,
   "metadata": {},
   "outputs": [],
   "source": [
    "df_train.loc[ : , range(44,269) ].to_csv(\"../data/train2dae.csv\" , index = False )\n",
    "df_test.loc[: , range(44,269)].to_csv(\"../data/test2dae.csv\" , index = False )\n"
   ]
  },
  {
   "cell_type": "code",
   "execution_count": null,
   "metadata": {},
   "outputs": [],
   "source": []
  }
 ],
 "metadata": {
  "kernelspec": {
   "display_name": "Python 2",
   "language": "python",
   "name": "python2"
  },
  "language_info": {
   "codemirror_mode": {
    "name": "ipython",
    "version": 2
   },
   "file_extension": ".py",
   "mimetype": "text/x-python",
   "name": "python",
   "nbconvert_exporter": "python",
   "pygments_lexer": "ipython2",
   "version": "2.7.6"
  }
 },
 "nbformat": 4,
 "nbformat_minor": 2
}
