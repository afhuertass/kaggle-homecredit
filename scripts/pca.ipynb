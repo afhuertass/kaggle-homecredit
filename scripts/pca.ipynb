{
 "cells": [
  {
   "cell_type": "code",
   "execution_count": 3,
   "metadata": {},
   "outputs": [],
   "source": [
    "import pandas as pd\n",
    "import numpy as np\n",
    "\n",
    "import matplotlib.pyplot as plt\n",
    "from  sklearn.preprocessing import LabelEncoder\n",
    "from  sklearn.preprocessing import OneHotEncoder\n",
    "import scipy \n",
    "from scipy.sparse import coo_matrix, hstack\n",
    "\n",
    "from __future__ import division\n",
    "from scipy.special import erfinv\n",
    "\n",
    "\n",
    "from sklearn.model_selection import train_test_split\n",
    "import lightgbm as lgb\n",
    "from sklearn.model_selection import StratifiedKFold\n",
    "from sklearn.model_selection import KFold\n",
    "from sklearn.metrics import roc_auc_score\n",
    "\n",
    "from sklearn.ensemble import ExtraTreesClassifier\n",
    "from sklearn.linear_model import LogisticRegression\n",
    "\n",
    "from sklearn.decomposition import PCA\n",
    "\n",
    "import xgboost as xgb"
   ]
  },
  {
   "cell_type": "code",
   "execution_count": null,
   "metadata": {},
   "outputs": [],
   "source": [
    "df_train = pd.read_csv(\"../data/train_dae.csv\")\n",
    "df_test = pd.read_csv(\"../data/test_dae.csv\")\n",
    "df_labels = pd.read_csv(\"../data/labels_train.csv\" , header = None )[1]\n",
    "test_ids = pd.read_csv(\"../data/ids_test.csv\" , header = None)[1].values\n",
    "test_ids\n",
    "df_train.shape"
   ]
  },
  {
   "cell_type": "code",
   "execution_count": 7,
   "metadata": {},
   "outputs": [],
   "source": [
    "n_comp = 100\n"
   ]
  },
  {
   "cell_type": "code",
   "execution_count": 8,
   "metadata": {},
   "outputs": [
    {
     "name": "stdout",
     "output_type": "stream",
     "text": [
      "Explained variance: 0.9998\n"
     ]
    }
   ],
   "source": [
    "pca = PCA(n_components=n_comp, svd_solver='full', random_state=1001)\n",
    "X_pca = pca.fit_transform( df_train.values )\n",
    "print('Explained variance: %.4f' % pca.explained_variance_ratio_.sum())"
   ]
  },
  {
   "cell_type": "code",
   "execution_count": 11,
   "metadata": {},
   "outputs": [
    {
     "data": {
      "text/plain": [
       "(307511, 50)"
      ]
     },
     "execution_count": 11,
     "metadata": {},
     "output_type": "execute_result"
    }
   ],
   "source": [
    "X_pca.shape"
   ]
  },
  {
   "cell_type": "code",
   "execution_count": 13,
   "metadata": {},
   "outputs": [
    {
     "name": "stdout",
     "output_type": "stream",
     "text": [
      "(48744, 50)\n"
     ]
    }
   ],
   "source": [
    "x_test = pca.transform( df_test.values )\n",
    "print(x_test.shape)"
   ]
  },
  {
   "cell_type": "code",
   "execution_count": 14,
   "metadata": {},
   "outputs": [],
   "source": [
    "pd.DataFrame( X_pca ).to_csv(\"../data/train_pca.csv\" , index = False )\n",
    "pd.DataFrame( x_test ).to_csv(\"../data/test_pca.csv\" , index = False)"
   ]
  },
  {
   "cell_type": "code",
   "execution_count": 9,
   "metadata": {},
   "outputs": [
    {
     "name": "stdout",
     "output_type": "stream",
     "text": [
      "Individual variance contributions:\n",
      "0.5843034903773732\n",
      "0.0936233508124217\n",
      "0.08755717497310625\n",
      "0.07264702683831605\n",
      "0.02936605510900827\n",
      "0.021719229819057155\n",
      "0.018905146008027524\n",
      "0.01661441496087357\n",
      "0.013655600810284848\n",
      "0.013043648381488202\n",
      "0.007985982418778454\n",
      "0.007669733187794138\n",
      "0.005522693096036234\n",
      "0.00427969235321665\n",
      "0.003527131284747057\n",
      "0.0030743169110402026\n",
      "0.00225280570144731\n",
      "0.0019656773399880844\n",
      "0.0018016851150030233\n",
      "0.0012420638128708345\n",
      "0.0010999513612154916\n",
      "0.00108259981688977\n",
      "0.0007299518451917729\n",
      "0.0006565763800986071\n",
      "0.000650773160936884\n",
      "0.0005810136507260505\n",
      "0.0004484250055354824\n",
      "0.00042771957701420114\n",
      "0.0003684237177017483\n",
      "0.0003673325690929415\n",
      "0.0002952487515050535\n",
      "0.0002293131785576631\n",
      "0.00020052503246940193\n",
      "0.00019554788127053343\n",
      "0.00017396276367658995\n",
      "0.00017003713601822592\n",
      "0.00015363187288915277\n",
      "0.0001374526145942474\n",
      "0.00013358611476085424\n",
      "0.0001270378334333772\n",
      "0.00011835964672622353\n",
      "0.0001172172002576593\n",
      "0.0001023566398125512\n",
      "9.356197600500705e-05\n",
      "6.953683571992538e-05\n",
      "6.778825376488993e-05\n",
      "6.37804307930353e-05\n",
      "6.150437567811313e-05\n",
      "4.689733918706437e-05\n",
      "2.7780566109138318e-05\n"
     ]
    }
   ],
   "source": [
    "print('Individual variance contributions:')\n",
    "for j in range(n_comp):\n",
    "    print(pca.explained_variance_ratio_[j])"
   ]
  },
  {
   "cell_type": "code",
   "execution_count": null,
   "metadata": {},
   "outputs": [],
   "source": []
  }
 ],
 "metadata": {
  "kernelspec": {
   "display_name": "Python 2",
   "language": "python",
   "name": "python2"
  },
  "language_info": {
   "codemirror_mode": {
    "name": "ipython",
    "version": 2
   },
   "file_extension": ".py",
   "mimetype": "text/x-python",
   "name": "python",
   "nbconvert_exporter": "python",
   "pygments_lexer": "ipython2",
   "version": "2.7.6"
  }
 },
 "nbformat": 4,
 "nbformat_minor": 2
}
